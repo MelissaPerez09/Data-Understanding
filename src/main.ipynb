{
 "cells": [
  {
   "cell_type": "markdown",
   "id": "8591459d",
   "metadata": {},
   "source": [
    "## Data Understanding\n",
    "\n",
    "Integrantes:\n",
    "- Melissa Pérez\n",
    "- Renatto Guzmán\n",
    "- Sebastían Silva\n",
    "- Javier Alvarado"
   ]
  }
 ],
 "metadata": {
  "language_info": {
   "name": "python"
  }
 },
 "nbformat": 4,
 "nbformat_minor": 5
}
